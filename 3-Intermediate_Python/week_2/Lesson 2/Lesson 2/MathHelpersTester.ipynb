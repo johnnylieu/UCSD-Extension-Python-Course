{
 "cells": [
  {
   "cell_type": "code",
   "execution_count": 1,
   "metadata": {},
   "outputs": [],
   "source": [
    "from MathHelpers import *"
   ]
  },
  {
   "cell_type": "code",
   "execution_count": 2,
   "metadata": {},
   "outputs": [
    {
     "name": "stdout",
     "output_type": "stream",
     "text": [
      "22/7\n",
      "3/4\n",
      "4/3\n",
      "1/1\n",
      "-1/3\n",
      "2/9\n",
      "1/2\n",
      "7/3\n",
      "-5/3\n",
      "2/3\n",
      "1/6\n",
      "False\n",
      "True\n",
      "True\n",
      "False\n",
      "True\n",
      "False\n"
     ]
    }
   ],
   "source": [
    "f1 = Fraction(22,7)\n",
    "print(f1)\n",
    "f2 = Fraction(12,16)\n",
    "print(f2)\n",
    "f3 = Fraction(16,12)\n",
    "print(f3)\n",
    "\n",
    "f4 = Fraction(1, 3)\n",
    "f5 = Fraction(4, 6)\n",
    "\n",
    "f6 = f4 + f5\n",
    "print(f6)\n",
    "print(f4 - f5)\n",
    "print(f4 * f5)\n",
    "print(f4 / f5)\n",
    "\n",
    "print(f4 + 2)\n",
    "print(f4 - 2)\n",
    "print(f4 * 2)\n",
    "print(f4 / 2)\n",
    "\n",
    "\n",
    "print(f4 == f5)\n",
    "print(f4 != f5)\n",
    "print(f4 < f5)\n",
    "print(f4 > f5)\n",
    "print(f4 <= f5)\n",
    "print(f4 >= f5)"
   ]
  },
  {
   "cell_type": "code",
   "execution_count": null,
   "metadata": {},
   "outputs": [],
   "source": []
  }
 ],
 "metadata": {
  "kernelspec": {
   "display_name": "Python 3",
   "language": "python",
   "name": "python3"
  },
  "language_info": {
   "codemirror_mode": {
    "name": "ipython",
    "version": 3
   },
   "file_extension": ".py",
   "mimetype": "text/x-python",
   "name": "python",
   "nbconvert_exporter": "python",
   "pygments_lexer": "ipython3",
   "version": "3.7.0"
  }
 },
 "nbformat": 4,
 "nbformat_minor": 2
}
