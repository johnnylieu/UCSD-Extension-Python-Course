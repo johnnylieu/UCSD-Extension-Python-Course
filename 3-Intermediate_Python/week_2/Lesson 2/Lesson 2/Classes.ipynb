{
 "cells": [
  {
   "cell_type": "code",
   "execution_count": 1,
   "metadata": {},
   "outputs": [],
   "source": [
    "# Classes"
   ]
  },
  {
   "cell_type": "code",
   "execution_count": 2,
   "metadata": {},
   "outputs": [],
   "source": [
    "class Person:\n",
    "    # Class variable - common to ALL Person objects, only one defined in memory\n",
    "    personCount = 0 # Not particularly useful, but demonstrates the concept\n",
    "        \n",
    "    def __init__(self, ssn, firstName, lastName):\n",
    "        Person.personCount += 1   # Note: must use the \"Person.\" handle\n",
    "        self.id = Person.personCount\n",
    "        self.ssn = ssn\n",
    "        self.firstName = firstName\n",
    "        self.lastName = lastName\n",
    "    \n",
    "    def printGreeting(self):\n",
    "        print(f\"Hello, {self.firstName} {self.lastName}, with ID {self.id}.\")\n",
    "        \n",
    "    def __str__(self):\n",
    "        return f\"{self.id:>5}: {self.ssn:<9} {self.lastName:<15} {self.firstName:<15}\""
   ]
  },
  {
   "cell_type": "code",
   "execution_count": 3,
   "metadata": {},
   "outputs": [],
   "source": [
    "p1 = Person(123456789, \"Bill\", \"Williams\")"
   ]
  },
  {
   "cell_type": "code",
   "execution_count": 4,
   "metadata": {},
   "outputs": [
    {
     "name": "stdout",
     "output_type": "stream",
     "text": [
      "Hello, Bill Williams, with ID 1.\n",
      "1\n",
      "Williams\n"
     ]
    }
   ],
   "source": [
    "p1.printGreeting()\n",
    "print(Person.personCount)   # access the class variable personCount\n",
    "print(p1.lastName)          # access a specific person's last name"
   ]
  },
  {
   "cell_type": "code",
   "execution_count": 5,
   "metadata": {},
   "outputs": [
    {
     "name": "stdout",
     "output_type": "stream",
     "text": [
      "    1: 123456789 Williams        Bill           \n"
     ]
    }
   ],
   "source": [
    "print(p1)  # without __str__, you get something like this: <__main__.Person object at 0x000001AB8B9D8940>"
   ]
  },
  {
   "cell_type": "code",
   "execution_count": 6,
   "metadata": {},
   "outputs": [],
   "source": [
    "p2 = Person(987654321, \"Jill\", \"Smith\")"
   ]
  },
  {
   "cell_type": "code",
   "execution_count": 7,
   "metadata": {},
   "outputs": [
    {
     "name": "stdout",
     "output_type": "stream",
     "text": [
      "Hello, Jill Smith, with ID 2.\n",
      "2\n",
      "Smith\n"
     ]
    }
   ],
   "source": [
    "p2.printGreeting()\n",
    "print(Person.personCount)\n",
    "print(p2.lastName)"
   ]
  },
  {
   "cell_type": "code",
   "execution_count": 8,
   "metadata": {},
   "outputs": [
    {
     "name": "stdout",
     "output_type": "stream",
     "text": [
      "    1: 123456789 Williams        Bill           \n",
      "    2: 987654321 Smith           Jill           \n",
      "    1: 123456789 Williams        Bill           \n"
     ]
    }
   ],
   "source": [
    "print(p1)\n",
    "print(p2)\n",
    "\n",
    "s = str(p1)\n",
    "print(s)"
   ]
  },
  {
   "cell_type": "code",
   "execution_count": 9,
   "metadata": {},
   "outputs": [],
   "source": [
    "# Deleting objects - no longer needed\n",
    "del p1\n",
    "# print(p1)   <-- NameError: name 'p1' is not defined"
   ]
  },
  {
   "cell_type": "code",
   "execution_count": null,
   "metadata": {},
   "outputs": [],
   "source": []
  }
 ],
 "metadata": {
  "kernelspec": {
   "display_name": "Python 3",
   "language": "python",
   "name": "python3"
  },
  "language_info": {
   "codemirror_mode": {
    "name": "ipython",
    "version": 3
   },
   "file_extension": ".py",
   "mimetype": "text/x-python",
   "name": "python",
   "nbconvert_exporter": "python",
   "pygments_lexer": "ipython3",
   "version": "3.7.0"
  }
 },
 "nbformat": 4,
 "nbformat_minor": 2
}
