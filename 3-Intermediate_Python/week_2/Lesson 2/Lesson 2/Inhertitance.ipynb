{
 "cells": [
  {
   "cell_type": "code",
   "execution_count": 1,
   "metadata": {},
   "outputs": [],
   "source": [
    "class Person(object):\n",
    "    personCount = 0 \n",
    "        \n",
    "    def __init__(self, id, firstName, lastName):\n",
    "        self.id = id\n",
    "        self.firstName = firstName\n",
    "        self.lastName = lastName\n",
    "        Person.personCount += 1   # Note: must use the \"Person.\" handle\n",
    "    \n",
    "    def printGreeting(self):\n",
    "        print(f\"Hello, {self.firstName} {self.lastName}.\")\n",
    "        \n",
    "    def __str__(self): \n",
    "        return f\"{self.id:<9} {self.lastName:<15} {self.firstName:<15}\"\n",
    "    \n",
    "    def header():\n",
    "        return f\"{'ID':<9} {'Last Name':<15} {'First Name':<15}\"\n",
    "    "
   ]
  },
  {
   "cell_type": "code",
   "execution_count": 2,
   "metadata": {},
   "outputs": [],
   "source": [
    "class Employee(Person):\n",
    "    def __init__(self, id, firstName, lastName, salary):\n",
    "        super().__init__(id, firstName, lastName) # call base class init (constructor)\n",
    "        self.salary = salary  # only have to directly set salary here\n",
    "        \n",
    "    def __str__(self):  \n",
    "        #return f\"{self.id:<9} {self.lastName:<15} {self.firstName:<15} ${self.salary:>12,.2f}\"\n",
    "        return f\"{super().__str__()} ${self.salary:>12,.2f}\"\n",
    "    \n",
    "    def header():\n",
    "        return f\"{Person.header()}  {'Salary':>12}\""
   ]
  },
  {
   "cell_type": "code",
   "execution_count": 3,
   "metadata": {},
   "outputs": [
    {
     "name": "stdout",
     "output_type": "stream",
     "text": [
      "1\n",
      "2\n",
      "4\n",
      "\n",
      "ID        Last Name       First Name     \n",
      "123456789 Bobbie          Jones          \n",
      "456789123 Janie           Smith          \n",
      "\n",
      "ID        Last Name       First Name             Salary\n",
      "987654321 Johnny          Williams        $  123,456.78\n",
      "321987654 Michael         Johnson         $5,123,789.99\n"
     ]
    }
   ],
   "source": [
    "p1 = Person(123456789, \"Jones\", \"Bobbie\")\n",
    "print(Person.personCount)\n",
    "e1 = Employee(987654321, \"Williams\", \"Johnny\", 123456.78)\n",
    "print(Person.personCount)\n",
    "\n",
    "p2 = Person(456789123, \"Smith\", \"Janie\")\n",
    "e2 = Employee(321987654, \"Johnson\", \"Michael\", 5123789.99)\n",
    "print(Person.personCount)\n",
    "print()\n",
    "\n",
    "print(Person.header())\n",
    "print(p1)\n",
    "print(p2)\n",
    "\n",
    "print()\n",
    "print(Employee.header())\n",
    "print(e1)\n",
    "print(e2)\n"
   ]
  },
  {
   "cell_type": "code",
   "execution_count": 4,
   "metadata": {},
   "outputs": [],
   "source": [
    "class Student(Person):\n",
    "    def __init__(self, id, firstName, lastName, gpa):\n",
    "        super().__init__(id, firstName, lastName)  # calling the base class constructor\n",
    "        self.gpa = gpa\n",
    "        \n",
    "    def __str__(self):\n",
    "        return f\"{super().__str__()} {self.gpa:>7,.3f}\"\n",
    "    \n",
    "    def header():\n",
    "        return f\"{Person.header()} {'GPA':>7}\""
   ]
  },
  {
   "cell_type": "code",
   "execution_count": 5,
   "metadata": {},
   "outputs": [
    {
     "name": "stdout",
     "output_type": "stream",
     "text": [
      "ID        Last Name       First Name          GPA\n",
      "444444555 Ryan            Jack              3.875\n"
     ]
    }
   ],
   "source": [
    "s1 = Student(444444555, \"Jack\", \"Ryan\", 3.875)\n",
    "print(Student.header())\n",
    "print(s1)"
   ]
  },
  {
   "cell_type": "code",
   "execution_count": 6,
   "metadata": {},
   "outputs": [],
   "source": [
    "class Supervisor(Employee):\n",
    "    def __init__(self, id, firstName, lastName, salary, title):\n",
    "        super().__init__(id, firstName, lastName, salary)  # calling the base class constructor (Employee)\n",
    "        self.title = title\n",
    "        \n",
    "    def __str__(self):\n",
    "        return f\"{self.title:<20} {super().__str__()}\"\n",
    "    \n",
    "    def header():\n",
    "        return f\"{'Title':<20} {Employee.header()}\"\n",
    "    \n",
    "    def printGreeting(self):\n",
    "        print(f\"Hello, {self.title} {self.firstName} {self.lastName}.\")"
   ]
  },
  {
   "cell_type": "code",
   "execution_count": 7,
   "metadata": {},
   "outputs": [
    {
     "name": "stdout",
     "output_type": "stream",
     "text": [
      "Title                ID        Last Name       First Name             Salary\n",
      "The Boss             654987321 Smith           Janet           $  789,456.00\n"
     ]
    }
   ],
   "source": [
    "v1 = Supervisor(654987321, \"Janet\", \"Smith\", 789456, \"The Boss\")\n",
    "print(Supervisor.header())\n",
    "print(v1)"
   ]
  },
  {
   "cell_type": "code",
   "execution_count": 8,
   "metadata": {},
   "outputs": [
    {
     "name": "stdout",
     "output_type": "stream",
     "text": [
      "Hello, Jones Bobbie.\n",
      "Hello, Williams Johnny.\n",
      "Hello, Jack Ryan.\n",
      "Hello, The Boss Janet Smith.\n"
     ]
    }
   ],
   "source": [
    "p1.printGreeting()\n",
    "e1.printGreeting()\n",
    "s1.printGreeting()\n",
    "v1.printGreeting()"
   ]
  },
  {
   "cell_type": "code",
   "execution_count": 9,
   "metadata": {},
   "outputs": [
    {
     "name": "stdout",
     "output_type": "stream",
     "text": [
      "[<__main__.Person object at 0x000002CCCCA9C668>, <__main__.Employee object at 0x000002CCCCA9C6A0>, <__main__.Student object at 0x000002CCCCA97CC0>, <__main__.Supervisor object at 0x000002CCCCA9C780>]\n",
      "123456789 Bobbie          Jones          \n",
      "987654321 Johnny          Williams        $  123,456.78\n",
      "444444555 Ryan            Jack              3.875\n",
      "The Boss             654987321 Smith           Janet           $  789,456.00\n"
     ]
    }
   ],
   "source": [
    "list = [p1, e1, s1, v1]\n",
    "print(list)\n",
    "for p in list:\n",
    "    print(p)"
   ]
  },
  {
   "cell_type": "code",
   "execution_count": 10,
   "metadata": {},
   "outputs": [
    {
     "name": "stdout",
     "output_type": "stream",
     "text": [
      "True\n",
      "False\n",
      "---------------------------------------\n",
      "True\n",
      "True\n",
      "False\n",
      "True\n",
      "---------------------------------------\n",
      "True\n",
      "True\n",
      "True\n",
      "True\n",
      "False\n"
     ]
    }
   ],
   "source": [
    "print(type(p1) is Person)\n",
    "print(type(e1) is Person)\n",
    "print(\"---------------------------------------\")\n",
    "print(isinstance(p1, Person))\n",
    "print(isinstance(e1, Person))\n",
    "\n",
    "print(isinstance(p1, Employee))\n",
    "print(isinstance(e1, Employee))\n",
    "print(\"---------------------------------------\")\n",
    "print(isinstance(v1, Supervisor))\n",
    "print(isinstance(v1, Employee))\n",
    "print(isinstance(v1, Person))\n",
    "print(isinstance(v1, object))\n",
    "print(isinstance(v1, Student))"
   ]
  },
  {
   "cell_type": "code",
   "execution_count": null,
   "metadata": {},
   "outputs": [],
   "source": []
  }
 ],
 "metadata": {
  "kernelspec": {
   "display_name": "Python 3",
   "language": "python",
   "name": "python3"
  },
  "language_info": {
   "codemirror_mode": {
    "name": "ipython",
    "version": 3
   },
   "file_extension": ".py",
   "mimetype": "text/x-python",
   "name": "python",
   "nbconvert_exporter": "python",
   "pygments_lexer": "ipython3",
   "version": "3.7.0"
  }
 },
 "nbformat": 4,
 "nbformat_minor": 2
}
