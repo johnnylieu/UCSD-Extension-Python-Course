{
 "cells": [
  {
   "cell_type": "code",
   "execution_count": 1,
   "metadata": {},
   "outputs": [],
   "source": [
    "import math"
   ]
  },
  {
   "cell_type": "code",
   "execution_count": 14,
   "metadata": {},
   "outputs": [],
   "source": [
    "class Point:\n",
    "    '''\n",
    "    Represents a Cartesian point in the format (x, y).\n",
    "    '''    \n",
    "\n",
    "    def __init__(self, x = 0, y = 0):\n",
    "        '''\n",
    "        Initializer/constructor for Point.\n",
    "        Args:\n",
    "            self(Point): The object\n",
    "            x(int): The x portion of the coordinate\n",
    "            y(int): The y portion of the coordinate\n",
    "        '''\n",
    "        self.x = x\n",
    "        self.y = y\n",
    "        \n",
    "    def __str__(self):\n",
    "        '''\n",
    "        Converts this Point object to a string.\n",
    "        Args:\n",
    "            self(Point): The object\n",
    "        '''\n",
    "        return f\"({self.x}, {self.y})\"\n",
    "        \n",
    "    @property  # decorator for read access to x\n",
    "    def x(self):\n",
    "        '''\n",
    "        Provides read access to x.\n",
    "        Args:\n",
    "            self(Point): The object\n",
    "        Returns:\n",
    "            x value\n",
    "        '''\n",
    "        # allows read access to __x (called \"dunder x\"):  value = pt.x\n",
    "        return self.__x\n",
    "    \n",
    "    @x.setter\n",
    "    def x(self, value):\n",
    "        '''\n",
    "        Provides write access to x.\n",
    "        Args:\n",
    "            self(Point): The object\n",
    "            value(int): The value to assign to x\n",
    "        '''\n",
    "        # allows write access to __x: pt.x = value\n",
    "        if (value == None) or (type(value) is not int):\n",
    "            self.__x = 0\n",
    "        else:\n",
    "            self.__x = value\n",
    "    \n",
    "    @x.deleter\n",
    "    def x(self):\n",
    "        '''\n",
    "        Deleter method for x.\n",
    "        Args:\n",
    "            self(Point): The object\n",
    "        Notes:\n",
    "            Triggered when 'del(pt.x)' is called\n",
    "        '''\n",
    "        # In this case we are trying to prevent x from being inadvertantly (or explicitly) deleted\n",
    "        self.__x = 0  # don't delete, just change to 0\n",
    "\n",
    "    @property\n",
    "    def y(self):\n",
    "        '''\n",
    "        Provides read access to y.\n",
    "        Args:\n",
    "            self(Point): The object\n",
    "        Returns:\n",
    "            y value\n",
    "        '''\n",
    "        # allows read access to __y:  value = pt.y\n",
    "        return self.__y\n",
    "    \n",
    "    @y.setter\n",
    "    def y(self, value):\n",
    "        '''\n",
    "        Provides write access to y.\n",
    "        Args:\n",
    "            self(Point): The object\n",
    "            value(int): The value to assign to y\n",
    "        '''\n",
    "        # allows write access to __y: pt.y = value\n",
    "        if (value == None) or (type(value) is not int):\n",
    "            self.__y = 0\n",
    "        else:\n",
    "            self.__y = value\n",
    "    \n",
    "    @y.deleter\n",
    "    def y(self):\n",
    "        '''\n",
    "        Deleter method for y.\n",
    "        Args:\n",
    "            self(Point): The object\n",
    "        Notes:\n",
    "            Triggered when 'del(pt.y)' is called\n",
    "        '''\n",
    "        # In this case we are trying to prevent y from being inadvertantly (or explicitly) deleted\n",
    "        self.__y = 0  # don't delete, just change to 0\n",
    "        \n",
    "    def distance(self, other):\n",
    "        '''\n",
    "        Calculates the distance between this Point and another\n",
    "        Args:\n",
    "            self(Point): The object\n",
    "            other(Point): The other point\n",
    "        Returns:\n",
    "            Distance btween the two points\n",
    "        '''\n",
    "        if other != None and type(other) == Point:\n",
    "            return ((self.x - other.x)**2 + (self.y - other.y)**2)**0.5\n",
    "        return math.nan\n"
   ]
  },
  {
   "cell_type": "code",
   "execution_count": 3,
   "metadata": {},
   "outputs": [],
   "source": [
    "pt1 = Point(3, 4)\n",
    "pt2 = Point(7, 8)"
   ]
  },
  {
   "cell_type": "code",
   "execution_count": 4,
   "metadata": {},
   "outputs": [
    {
     "name": "stdout",
     "output_type": "stream",
     "text": [
      "(3, 4)\n",
      "(7, 8)\n"
     ]
    }
   ],
   "source": [
    "print(pt1)\n",
    "print(pt2)"
   ]
  },
  {
   "cell_type": "code",
   "execution_count": 5,
   "metadata": {},
   "outputs": [
    {
     "name": "stdout",
     "output_type": "stream",
     "text": [
      "(0, 0)\n"
     ]
    }
   ],
   "source": [
    "pt1 = Point(\"ABC\", None)\n",
    "print(pt1)"
   ]
  },
  {
   "cell_type": "code",
   "execution_count": 6,
   "metadata": {},
   "outputs": [
    {
     "name": "stdout",
     "output_type": "stream",
     "text": [
      "0\n"
     ]
    }
   ],
   "source": [
    "# print(pt1.__x)  <- cannot directly access: AttributeError: 'Point' object has no attribute '__x'\n",
    "print(pt1.x)"
   ]
  },
  {
   "cell_type": "code",
   "execution_count": 7,
   "metadata": {},
   "outputs": [
    {
     "name": "stdout",
     "output_type": "stream",
     "text": [
      "['_Point__x', '_Point__y', '__class__', '__delattr__', '__dict__', '__dir__', '__doc__', '__eq__', '__format__', '__ge__', '__getattribute__', '__gt__', '__hash__', '__init__', '__init_subclass__', '__le__', '__lt__', '__module__', '__ne__', '__new__', '__reduce__', '__reduce_ex__', '__repr__', '__setattr__', '__sizeof__', '__str__', '__subclasshook__', '__weakref__', 'distance', 'x', 'y']\n"
     ]
    }
   ],
   "source": [
    "# prints the structure of pt1\n",
    "print(dir(pt1))"
   ]
  },
  {
   "cell_type": "code",
   "execution_count": 8,
   "metadata": {},
   "outputs": [
    {
     "name": "stdout",
     "output_type": "stream",
     "text": [
      "9\n"
     ]
    }
   ],
   "source": [
    "# test accessing the x property setter and getter\n",
    "pt1.x = 9\n",
    "print(pt1.x)"
   ]
  },
  {
   "cell_type": "code",
   "execution_count": 9,
   "metadata": {},
   "outputs": [
    {
     "name": "stdout",
     "output_type": "stream",
     "text": [
      "The distance between (3, 4) and (10, 6) is 7.2801\n"
     ]
    }
   ],
   "source": [
    "# Use distance formula\n",
    "pt1 = Point(3,4)\n",
    "pt2 = Point(10,6)\n",
    "print(f\"The distance between {pt1} and {pt2} is {pt1.distance(pt2):.4f}\")"
   ]
  },
  {
   "cell_type": "code",
   "execution_count": 10,
   "metadata": {},
   "outputs": [
    {
     "name": "stdout",
     "output_type": "stream",
     "text": [
      "(3, 4)\n",
      "(0, 4)\n"
     ]
    }
   ],
   "source": [
    "# Bonus demo - if someone tries to delete the x member of pt1 it will simply set the value to 0\n",
    "#   see @x.deleter in class\n",
    "print(pt1)\n",
    "del(pt1.x)\n",
    "print(pt1)"
   ]
  },
  {
   "cell_type": "code",
   "execution_count": 15,
   "metadata": {},
   "outputs": [
    {
     "name": "stdout",
     "output_type": "stream",
     "text": [
      "Help on class Point in module __main__:\n",
      "\n",
      "class Point(builtins.object)\n",
      " |  Point(x=0, y=0)\n",
      " |  \n",
      " |  Represents a Cartesian point in the format (x, y).\n",
      " |  \n",
      " |  Methods defined here:\n",
      " |  \n",
      " |  __init__(self, x=0, y=0)\n",
      " |      Initializer/constructor for Point.\n",
      " |      Args:\n",
      " |          self(Point): The object\n",
      " |          x(int): The x portion of the coordinate\n",
      " |          y(int): The y portion of the coordinate\n",
      " |  \n",
      " |  __str__(self)\n",
      " |      Converts this Point object to a string.\n",
      " |      Args:\n",
      " |          self(Point): The object\n",
      " |  \n",
      " |  distance(self, other)\n",
      " |      Calculates the distance between this Point and another\n",
      " |      Args:\n",
      " |          self(Point): The object\n",
      " |          other(Point): The other point\n",
      " |      Returns:\n",
      " |          Distance btween the two points\n",
      " |  \n",
      " |  ----------------------------------------------------------------------\n",
      " |  Data descriptors defined here:\n",
      " |  \n",
      " |  __dict__\n",
      " |      dictionary for instance variables (if defined)\n",
      " |  \n",
      " |  __weakref__\n",
      " |      list of weak references to the object (if defined)\n",
      " |  \n",
      " |  x\n",
      " |      Provides read access to x.\n",
      " |      Args:\n",
      " |          self(Point): The object\n",
      " |      Returns:\n",
      " |          x value\n",
      " |  \n",
      " |  y\n",
      " |      Provides read access to y.\n",
      " |      Args:\n",
      " |          self(Point): The object\n",
      " |      Returns:\n",
      " |          y value\n",
      "\n"
     ]
    }
   ],
   "source": [
    "help(Point)"
   ]
  },
  {
   "cell_type": "code",
   "execution_count": null,
   "metadata": {},
   "outputs": [],
   "source": []
  },
  {
   "cell_type": "code",
   "execution_count": null,
   "metadata": {},
   "outputs": [],
   "source": []
  }
 ],
 "metadata": {
  "kernelspec": {
   "display_name": "Python 3",
   "language": "python",
   "name": "python3"
  },
  "language_info": {
   "codemirror_mode": {
    "name": "ipython",
    "version": 3
   },
   "file_extension": ".py",
   "mimetype": "text/x-python",
   "name": "python",
   "nbconvert_exporter": "python",
   "pygments_lexer": "ipython3",
   "version": "3.7.0"
  }
 },
 "nbformat": 4,
 "nbformat_minor": 2
}
